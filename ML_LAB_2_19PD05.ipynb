{
 "cells": [
  {
   "cell_type": "code",
   "execution_count": 1,
   "metadata": {},
   "outputs": [],
   "source": [
    "import numpy as np\n",
    "import matplotlib.pyplot as plt\n",
    "import pandas as pd\n",
    "\n",
    "from sklearn.linear_model import LinearRegression\n",
    "from sklearn.metrics import mean_squared_error, r2_score\n",
    "import statsmodels.api as sm"
   ]
  },
  {
   "cell_type": "code",
   "execution_count": 3,
   "metadata": {},
   "outputs": [],
   "source": [
    "#Gradient Descent\n",
    "def find(x1,y,w,yhat,flag,epoch):\n",
    "    while(flag ==0):\n",
    "        epoch=epoch+1\n",
    "    #wgt updation eta =1\n",
    "        for i in range (0,4):\n",
    "            x=x1[i,:]\n",
    "            print(';;;;;;;',x)\n",
    "            wt=w.transpose()\n",
    "            sum=np.dot(w,x)\n",
    "            if(sum>=0):\n",
    "                yhat[i]=1\n",
    "            else:\n",
    "                yhat[i]=0\n",
    "            if(y[i]==yhat[i]):\n",
    "                continue\n",
    "            if(y[i]==1 and yhat[i]==0):\n",
    "                w=w+x\n",
    "            else:\n",
    "                w=w-x\n",
    "    #convergence        \n",
    "        flag=1\n",
    "        for k in range (0,4):\n",
    "            x=x1[k,:]\n",
    "            sum=np.dot(w,x)\n",
    "            if(sum>=0):\n",
    "                yhat[k]=1\n",
    "            else:\n",
    "                yhat[k]=0\n",
    "            if (y[k]!=yhat[k]):\n",
    "                flag=0\n",
    "                break;\n",
    "            \n",
    "        print(\"RESULT\")\n",
    "        print(epoch)\n",
    "        print(y)\n",
    "        print(yhat)\n",
    "        print(w)\n",
    "        print(flag)\n",
    "        plt.plot([0,0,1],[0,1,0],'ro')\n",
    "    plt.plot([1],[1],'bo')\n",
    "    plt.axis([0,2,0,2])\n",
    "    x=np.linspace(0,2,100)\n",
    "    y= - w[1] / w[2] * x - w[0] / w[2]\n",
    "    plt.plot(x,y,'-r')\n",
    "    return 0;      "
   ]
  },
  {
   "cell_type": "markdown",
   "metadata": {},
   "source": [
    "# AND GATE"
   ]
  },
  {
   "cell_type": "code",
   "execution_count": 4,
   "metadata": {},
   "outputs": [
    {
     "name": "stdout",
     "output_type": "stream",
     "text": [
      ";;;;;;; [1 0 0]\n",
      ";;;;;;; [1 0 1]\n",
      ";;;;;;; [1 1 0]\n",
      ";;;;;;; [1 1 1]\n",
      "RESULT\n",
      "1\n",
      "[0 0 0 1]\n",
      "[0 1 0 0]\n",
      "[-0.5  1.5  0.5]\n",
      "0\n",
      ";;;;;;; [1 0 0]\n",
      ";;;;;;; [1 0 1]\n",
      ";;;;;;; [1 1 0]\n",
      ";;;;;;; [1 1 1]\n",
      "RESULT\n",
      "2\n",
      "[0 0 0 1]\n",
      "[0 0 1 0]\n",
      "[-1.5  1.5  0.5]\n",
      "0\n",
      ";;;;;;; [1 0 0]\n",
      ";;;;;;; [1 0 1]\n",
      ";;;;;;; [1 1 0]\n",
      ";;;;;;; [1 1 1]\n",
      "RESULT\n",
      "3\n",
      "[0 0 0 1]\n",
      "[0 1 1 0]\n",
      "[-1.5  1.5  1.5]\n",
      "0\n",
      ";;;;;;; [1 0 0]\n",
      ";;;;;;; [1 0 1]\n",
      ";;;;;;; [1 1 0]\n",
      ";;;;;;; [1 1 1]\n",
      "RESULT\n",
      "4\n",
      "[0 0 0 1]\n",
      "[0 1 0 0]\n",
      "[-1.5  2.5  1.5]\n",
      "0\n",
      ";;;;;;; [1 0 0]\n",
      ";;;;;;; [1 0 1]\n",
      ";;;;;;; [1 1 0]\n",
      ";;;;;;; [1 1 1]\n",
      "RESULT\n",
      "5\n",
      "[0 0 0 1]\n",
      "[0 0 1 0]\n",
      "[-2.5  2.5  1.5]\n",
      "0\n",
      ";;;;;;; [1 0 0]\n",
      ";;;;;;; [1 0 1]\n",
      ";;;;;;; [1 1 0]\n",
      ";;;;;;; [1 1 1]\n",
      "RESULT\n",
      "6\n",
      "[0 0 0 1]\n",
      "[0 1 1 0]\n",
      "[-2.5  2.5  2.5]\n",
      "0\n",
      ";;;;;;; [1 0 0]\n",
      ";;;;;;; [1 0 1]\n",
      ";;;;;;; [1 1 0]\n",
      ";;;;;;; [1 1 1]\n",
      "RESULT\n",
      "7\n",
      "[0 0 0 1]\n",
      "[0 0 0 1]\n",
      "[-3.5  2.5  1.5]\n",
      "1\n"
     ]
    },
    {
     "data": {
      "text/plain": [
       "0"
      ]
     },
     "execution_count": 4,
     "metadata": {},
     "output_type": "execute_result"
    },
    {
     "data": {
      "image/png": "[encoded data removed]",
      "text/plain": [
       "<Figure size 432x288 with 1 Axes>"
      ]
     },
     "metadata": {
      "needs_background": "light"
     },
     "output_type": "display_data"
    }
   ],
   "source": [
    "x=np.array([[1,0,0],[1,0,1],[1,1,0],[1,1,1]])\n",
    "y=np.array([0,0,0,1])\n",
    "w=np.array([0.5,0.5,0.5])\n",
    "yhat=np.array([1,1,1,1])\n",
    "flag=0\n",
    "epoch=0\n",
    "find(x,y,w,yhat,flag,epoch)"
   ]
  },
  {
   "cell_type": "markdown",
   "metadata": {},
   "source": [
    "# OR"
   ]
  },
  {
   "cell_type": "code",
   "execution_count": 17,
   "metadata": {},
   "outputs": [
    {
     "name": "stdout",
     "output_type": "stream",
     "text": [
      "RESULT\n",
      "1\n",
      "[0 1 1 1]\n",
      "[1 1 0 1]\n",
      "[0.5 0.5 1. ]\n",
      "0\n",
      "RESULT\n",
      "2\n",
      "[0 1 1 1]\n",
      "[0 1 1 1]\n",
      "[-0.5  0.5  1. ]\n",
      "1\n"
     ]
    },
    {
     "data": {
      "text/plain": [
       "0"
      ]
     },
     "execution_count": 17,
     "metadata": {},
     "output_type": "execute_result"
    },
    {
     "data": {
      "image/png": "[encoded data removed]",
      "text/plain": [
       "<Figure size 432x288 with 1 Axes>"
      ]
     },
     "metadata": {
      "needs_background": "light"
     },
     "output_type": "display_data"
    }
   ],
   "source": [
    "x=np.array([[1,0,0],[1,0,1],[1,1,0],[1,1,1]])\n",
    "y=np.array([0,1,1,1])\n",
    "w=np.array([-0.5,-0.5,1])\n",
    "yhat=np.array([1,1,1,1])\n",
    "flag=0\n",
    "epoch=0\n",
    "find(x,y,w,yhat,flag,epoch)"
   ]
  },
  {
   "cell_type": "markdown",
   "metadata": {},
   "source": [
    "# NOT"
   ]
  },
  {
   "cell_type": "code",
   "execution_count": 18,
   "metadata": {},
   "outputs": [],
   "source": [
    "def find2(x1,y,w,yhat,flag,epoch):\n",
    "    while(flag ==0):\n",
    "        epoch=epoch+1\n",
    "    #wgt updation eta =1\n",
    "        for i in range (0,2):\n",
    "            x=x1[i,:]\n",
    "            wt=w.transpose()\n",
    "            sum=np.dot(w,x)\n",
    "            if(sum>=0):\n",
    "                yhat[i]=1\n",
    "            else:\n",
    "                yhat[i]=0\n",
    "            if(y[i]==yhat[i]):\n",
    "                continue\n",
    "            if(y[i]==1 and yhat[i]==0):\n",
    "                w=w+x\n",
    "            else:\n",
    "                w=w-x\n",
    "    #convergence        \n",
    "        flag=1\n",
    "        for k in range (0,2):\n",
    "            x=x1[k,:]\n",
    "            sum=np.dot(w,x)\n",
    "            if(sum>=0):\n",
    "                yhat[k]=1\n",
    "            else:\n",
    "                yhat[k]=0\n",
    "            if (y[k]!=yhat[k]):\n",
    "                flag=0\n",
    "                break;\n",
    "            \n",
    "        print(\"RESULT\")\n",
    "        print(epoch)\n",
    "        print(y)\n",
    "        print(yhat)\n",
    "        print(w)\n",
    "        print(flag)\n",
    "    return 0;  "
   ]
  },
  {
   "cell_type": "code",
   "execution_count": 19,
   "metadata": {},
   "outputs": [
    {
     "name": "stdout",
     "output_type": "stream",
     "text": [
      "RESULT\n",
      "1\n",
      "[1 0]\n",
      "[0 1]\n",
      "[-0.5 -0.5]\n",
      "0\n",
      "RESULT\n",
      "2\n",
      "[1 0]\n",
      "[0 1]\n",
      "[-0.5 -1.5]\n",
      "0\n",
      "RESULT\n",
      "3\n",
      "[1 0]\n",
      "[1 0]\n",
      "[ 0.5 -1.5]\n",
      "1\n"
     ]
    },
    {
     "data": {
      "text/plain": [
       "0"
      ]
     },
     "execution_count": 19,
     "metadata": {},
     "output_type": "execute_result"
    }
   ],
   "source": [
    "x=np.array([[1,0],[1,1]])\n",
    "y=np.array([1,0])\n",
    "w=np.array([0.5,0.5])\n",
    "yhat=np.array([1,1])\n",
    "flag=0\n",
    "epoch=0\n",
    "find2(x,y,w,yhat,flag,epoch)"
   ]
  },
  {
   "cell_type": "code",
   "execution_count": 20,
   "metadata": {},
   "outputs": [
    {
     "data": {
      "text/plain": [
       "[<matplotlib.lines.Line2D at 0x1e5235820d0>]"
      ]
     },
     "execution_count": 20,
     "metadata": {},
     "output_type": "execute_result"
    },
    {
     "data": {
      "image/png": "[encoded data removed]",
      "text/plain": [
       "<Figure size 432x288 with 1 Axes>"
      ]
     },
     "metadata": {
      "needs_background": "light"
     },
     "output_type": "display_data"
    }
   ],
   "source": [
    "plt.scatter([0],[1])\n",
    "plt.scatter([1],[0])\n",
    "x=np.linspace(-5,100,100)\n",
    "y=-2*x+1\n",
    "plt.axis([-0.1,2,-0.1,2])\n",
    "plt.plot(x,y)"
   ]
  },
  {
   "cell_type": "markdown",
   "metadata": {},
   "source": [
    "# NAND"
   ]
  },
  {
   "cell_type": "code",
   "execution_count": 21,
   "metadata": {},
   "outputs": [
    {
     "name": "stdout",
     "output_type": "stream",
     "text": [
      "RESULT\n",
      "1\n",
      "[1 1 1 0]\n",
      "[0 1 1 1]\n",
      "[-0.5 -0.5 -1.5]\n",
      "0\n",
      "RESULT\n",
      "2\n",
      "[1 1 1 0]\n",
      "[1 0 1 1]\n",
      "[ 0.5 -1.5 -1.5]\n",
      "0\n",
      "RESULT\n",
      "3\n",
      "[1 1 1 0]\n",
      "[1 1 1 0]\n",
      "[ 1.5 -1.5 -0.5]\n",
      "1\n"
     ]
    },
    {
     "data": {
      "text/plain": [
       "0"
      ]
     },
     "execution_count": 21,
     "metadata": {},
     "output_type": "execute_result"
    },
    {
     "data": {
      "image/png": "[encoded data removed]",
      "text/plain": [
       "<Figure size 432x288 with 1 Axes>"
      ]
     },
     "metadata": {
      "needs_background": "light"
     },
     "output_type": "display_data"
    }
   ],
   "source": [
    "x=np.array([[1,0,0],[1,0,1],[1,1,0],[1,1,1]])\n",
    "y=np.array([1,1,1,0])\n",
    "w=np.array([0.5,0.5,-0.5])\n",
    "yhat=np.array([1,1,1,1])\n",
    "flag=0\n",
    "epoch=0\n",
    "find(x,y,w,yhat,flag,epoch)"
   ]
  },
  {
   "cell_type": "code",
   "execution_count": 35,
   "metadata": {},
   "outputs": [],
   "source": [
    "X=df['Soap']\n",
    "y=df['Suds']\n",
    "w0 = random.randint(0, 10)\n",
    "w1= random.randint(0, 20)\n",
    "w2 = random.randint(13, 40)\n",
    "W=[w0,w1,w2]\n",
    "y_hat=[]\n"
   ]
  },
  {
   "cell_type": "code",
   "execution_count": 22,
   "metadata": {},
   "outputs": [],
   "source": [
    "x=df['Soap'].to_numpy()\n",
    "y=df['Suds'].to_numpy()"
   ]
  },
  {
   "cell_type": "code",
   "execution_count": 23,
   "metadata": {},
   "outputs": [
    {
     "name": "stdout",
     "output_type": "stream",
     "text": [
      "Slope: [9.5]\n",
      "Intercept: -2.6785714285714235\n",
      "MSE: 2.8520408163265283\n",
      "Root mean squared error:  1.6887986310766978\n",
      "R2 score:  0.9693665059184569\n"
     ]
    }
   ],
   "source": [
    "x=x.reshape(-1,1)\n",
    "regression_model = LinearRegression()\n",
    "  \n",
    "# Fit the data(train the model)\n",
    "regression_model.fit(x, y)\n",
    "  \n",
    "# Predict\n",
    "y_predicted = regression_model.predict(x)\n",
    "  \n",
    "# model evaluation\n",
    "mse=mean_squared_error(y,y_predicted)\n",
    "  \n",
    "rmse = np.sqrt(mean_squared_error(y, y_predicted))\n",
    "r2 = r2_score(y, y_predicted)\n",
    "  \n",
    "# printing values\n",
    "print('Slope:' ,regression_model.coef_)\n",
    "print('Intercept:', regression_model.intercept_)\n",
    "print('MSE:',mse)\n",
    "print('Root mean squared error: ', rmse)\n",
    "print('R2 score: ', r2)"
   ]
  },
  {
   "cell_type": "code",
   "execution_count": 12,
   "metadata": {},
   "outputs": [],
   "source": [
    "def find3(X,Y):\n",
    "    X=X.copy()\n",
    "    y=Y.copy()\n",
    "    X['1']=1\n",
    "    w=np.zeros(X.shape[1])\n",
    "    gd=0\n",
    "    while True:\n",
    "        gd=0\n",
    "        error=0\n",
    "        for i,j in zip(X.values,y.values):\n",
    "            yhat=np.dot(w.T,i)\n",
    "            gd+=(j-yhat)*i*0.001\n",
    "            error+=np.abs(j-yhat)\n",
    "        w+=gd\n",
    "        print(w)\n",
    "        if np.abs(error)<0.4:\n",
    "            return w\n",
    "  "
   ]
  },
  {
   "cell_type": "code",
   "execution_count": 9,
   "metadata": {},
   "outputs": [
    {
     "name": "stdout",
     "output_type": "stream",
     "text": [
      "   Soap  Suds\n",
      "0   4.0    33\n",
      "1   4.5    42\n",
      "2   5.0    45\n",
      "3   5.5    51\n",
      "4   6.0    53\n",
      "5   6.5    61\n",
      "6   7.0    62\n"
     ]
    }
   ],
   "source": [
    "data = {'Soap': [ 4,4.5 ,  5,    5.5 ,  6,  6.5 ,  7  ],\n",
    "        'Suds': [33 , 42    ,45,    51,  53 , 61,   62 ]\n",
    "        }\n",
    "\n",
    "df = pd.DataFrame(data, columns = ['Soap', 'Suds'])\n",
    "\n",
    "print (df)\n"
   ]
  },
  {
   "cell_type": "code",
   "execution_count": 10,
   "metadata": {},
   "outputs": [],
   "source": [
    "df['Soap']=(df['Soap']-df['Soap'].mean())/df['Soap'].std()\n",
    "df['Suds']=(df['Suds']-df['Suds'].mean())/df['Suds'].std()"
   ]
  },
  {
   "cell_type": "code",
   "execution_count": 11,
   "metadata": {},
   "outputs": [],
   "source": [
    "x=df[['Soap']]\n",
    "y=df[['Suds']]"
   ]
  },
  {
   "cell_type": "code",
   "execution_count": 13,
   "metadata": {},
   "outputs": [],
   "source": [
    "#find3(x,y)"
   ]
  },
  {
   "cell_type": "code",
   "execution_count": 12,
   "metadata": {},
   "outputs": [
    {
     "data": {
      "text/plain": [
       "<matplotlib.collections.PathCollection at 0x1dc9ec83d90>"
      ]
     },
     "execution_count": 12,
     "metadata": {},
     "output_type": "execute_result"
    },
    {
     "data": {
      "image/png": "[encoded data removed]",
      "text/plain": [
       "<Figure size 432x288 with 1 Axes>"
      ]
     },
     "metadata": {
      "needs_background": "light"
     },
     "output_type": "display_data"
    }
   ],
   "source": [
    "tt = np.linspace(-2,2, 100)\n",
    "plt.scatter(x,y)"
   ]
  },
  {
   "cell_type": "code",
   "execution_count": null,
   "metadata": {},
   "outputs": [],
   "source": []
  }
 ],
 "metadata": {
  "kernelspec": {
   "display_name": "Python 3",
   "language": "python",
   "name": "python3"
  },
  "language_info": {
   "codemirror_mode": {
    "name": "ipython",
    "version": 3
   },
   "file_extension": ".py",
   "mimetype": "text/x-python",
   "name": "python",
   "nbconvert_exporter": "python",
   "pygments_lexer": "ipython3",
   "version": "3.8.3"
  }
 },
 "nbformat": 4,
 "nbformat_minor": 4
}
